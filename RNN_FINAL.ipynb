{
  "cells": [
    {
      "cell_type": "code",
      "execution_count": 18,
      "metadata": {
        "id": "NexFyppqXsMF"
      },
      "outputs": [],
      "source": [
        "# Step 1: Import required libraries\n",
        "from keras.models import Sequential, load_model\n",
        "from keras.layers import Embedding, SimpleRNN, Dense\n",
        "from keras.datasets import imdb\n",
        "from keras.preprocessing import sequence\n"
      ]
    },
    {
      "cell_type": "code",
      "execution_count": null,
      "metadata": {
        "id": "GWUzUs8ZXv04"
      },
      "outputs": [],
      "source": [
        "# Step 2: Set parameters\n",
        "max_features = 10000  # number of words to consider as features\n",
        "maxlen = 500          # cut texts after this number of words\n",
        "batch_size = 64\n"
      ]
    },
    {
      "cell_type": "code",
      "execution_count": null,
      "metadata": {
        "colab": {
          "base_uri": "https://localhost:8080/"
        },
        "id": "lnwh_ZmTX7ju",
        "outputId": "a3873970-a1b3-4eb1-ddfc-1a02bd3ff298"
      },
      "outputs": [
        {
          "output_type": "stream",
          "name": "stdout",
          "text": [
            "Loading data...\n",
            "Downloading data from https://storage.googleapis.com/tensorflow/tf-keras-datasets/imdb.npz\n",
            "\u001b[1m17464789/17464789\u001b[0m \u001b[32m━━━━━━━━━━━━━━━━━━━━\u001b[0m\u001b[37m\u001b[0m \u001b[1m0s\u001b[0m 0us/step\n",
            "25000 train sequences\n",
            "25000 test sequences\n"
          ]
        }
      ],
      "source": [
        "# Step 3: Load the data\n",
        "print(\"Loading data...\")\n",
        "(x_train, y_train), (x_test, y_test) = imdb.load_data(num_words=max_features)\n",
        "print(len(x_train), \"train sequences\")\n",
        "print(len(x_test), \"test sequences\")\n"
      ]
    },
    {
      "cell_type": "code",
      "execution_count": null,
      "metadata": {
        "colab": {
          "base_uri": "https://localhost:8080/"
        },
        "id": "8e47HIVeX-jL",
        "outputId": "b0a0fda9-de35-4d64-9945-2d60d6564b5f"
      },
      "outputs": [
        {
          "output_type": "stream",
          "name": "stdout",
          "text": [
            "x_train shape: (25000, 500)\n",
            "x_test shape: (25000, 500)\n"
          ]
        }
      ],
      "source": [
        "\n",
        "# Step 4: Pad sequences\n",
        "x_train = sequence.pad_sequences(x_train, maxlen=maxlen)\n",
        "x_test = sequence.pad_sequences(x_test, maxlen=maxlen)\n",
        "print(\"x_train shape:\", x_train.shape)\n",
        "print(\"x_test shape:\", x_test.shape)"
      ]
    },
    {
      "cell_type": "code",
      "execution_count": null,
      "metadata": {
        "colab": {
          "base_uri": "https://localhost:8080/"
        },
        "id": "TRFO2xSUtJAp",
        "outputId": "8d5cf274-ac70-4400-c48e-019b190cacd8"
      },
      "outputs": [
        {
          "output_type": "stream",
          "name": "stdout",
          "text": [
            "Building model...\n"
          ]
        }
      ],
      "source": [
        "# Step 5: Build the model\n",
        "print(\"Building model...\")\n",
        "model = Sequential()\n",
        "model.add(Embedding(max_features, 32))\n",
        "model.add(SimpleRNN(32, activation='relu'))  # Using ReLU instead of tanh\n",
        "model.add(Dense(1, activation='sigmoid'))"
      ]
    },
    {
      "cell_type": "code",
      "execution_count": null,
      "metadata": {
        "id": "y1oT255-YBDc"
      },
      "outputs": [],
      "source": [
        "model.compile(loss='binary_crossentropy',\n",
        "              optimizer='adam',\n",
        "              metrics=['accuracy'])\n"
      ]
    },
    {
      "cell_type": "code",
      "execution_count": null,
      "metadata": {
        "colab": {
          "base_uri": "https://localhost:8080/"
        },
        "id": "eZEuqpEtYEQc",
        "outputId": "e955180f-717e-4466-f660-08c612b3ad45"
      },
      "outputs": [
        {
          "output_type": "stream",
          "name": "stdout",
          "text": [
            "Training model...\n",
            "Epoch 1/3\n",
            "\u001b[1m313/313\u001b[0m \u001b[32m━━━━━━━━━━━━━━━━━━━━\u001b[0m\u001b[37m\u001b[0m \u001b[1m51s\u001b[0m 155ms/step - accuracy: 0.5920 - loss: 0.6630 - val_accuracy: 0.7532 - val_loss: 0.4815\n",
            "Epoch 2/3\n",
            "\u001b[1m313/313\u001b[0m \u001b[32m━━━━━━━━━━━━━━━━━━━━\u001b[0m\u001b[37m\u001b[0m \u001b[1m44s\u001b[0m 142ms/step - accuracy: 0.8277 - loss: 0.3808 - val_accuracy: 0.7822 - val_loss: 0.4695\n",
            "Epoch 3/3\n",
            "\u001b[1m313/313\u001b[0m \u001b[32m━━━━━━━━━━━━━━━━━━━━\u001b[0m\u001b[37m\u001b[0m \u001b[1m85s\u001b[0m 151ms/step - accuracy: 0.8914 - loss: 0.2800 - val_accuracy: 0.8660 - val_loss: 0.3287\n"
          ]
        },
        {
          "output_type": "execute_result",
          "data": {
            "text/plain": [
              "<keras.src.callbacks.history.History at 0x7c9755314f10>"
            ]
          },
          "metadata": {},
          "execution_count": 8
        }
      ],
      "source": [
        "# Step 7: Train the model\n",
        "print(\"Training model...\")\n",
        "model.fit(x_train, y_train,\n",
        "          batch_size=batch_size,\n",
        "          epochs=3,\n",
        "          validation_split=0.2)"
      ]
    },
    {
      "cell_type": "code",
      "execution_count": null,
      "metadata": {
        "colab": {
          "base_uri": "https://localhost:8080/"
        },
        "id": "jaPkdFNptSaF",
        "outputId": "ba00d302-a391-45f8-faaf-dce4a553f94d"
      },
      "outputs": [
        {
          "output_type": "stream",
          "name": "stderr",
          "text": [
            "WARNING:absl:You are saving your model as an HDF5 file via `model.save()` or `keras.saving.save_model(model)`. This file format is considered legacy. We recommend using instead the native Keras format, e.g. `model.save('my_model.keras')` or `keras.saving.save_model(model, 'my_model.keras')`. \n"
          ]
        },
        {
          "output_type": "stream",
          "name": "stdout",
          "text": [
            "Model saved as simple_rnn_imdb.h5\n"
          ]
        }
      ],
      "source": [
        "# Step 8: Save the model\n",
        "model.save('simple_rnn_imdb.h5')\n",
        "print(\"Model saved as simple_rnn_imdb.h5\")"
      ]
    },
    {
      "cell_type": "code",
      "execution_count": null,
      "metadata": {
        "colab": {
          "base_uri": "https://localhost:8080/"
        },
        "id": "FPSC_ccVtVB9",
        "outputId": "03f447e5-0159-41ac-e255-049d9358631c"
      },
      "outputs": [
        {
          "output_type": "stream",
          "name": "stderr",
          "text": [
            "WARNING:absl:Compiled the loaded model, but the compiled metrics have yet to be built. `model.compile_metrics` will be empty until you train or evaluate the model.\n"
          ]
        },
        {
          "output_type": "stream",
          "name": "stdout",
          "text": [
            "Loading the saved model...\n"
          ]
        }
      ],
      "source": [
        "# Step 9: Load the model\n",
        "print(\"Loading the saved model...\")\n",
        "loaded_model = load_model('simple_rnn_imdb.h5')\n"
      ]
    },
    {
      "cell_type": "code",
      "execution_count": null,
      "metadata": {
        "colab": {
          "base_uri": "https://localhost:8080/"
        },
        "id": "oNk7p6qAtW8Q",
        "outputId": "d6f8c537-5469-42cb-8547-bb4448a71199"
      },
      "outputs": [
        {
          "output_type": "stream",
          "name": "stdout",
          "text": [
            "\u001b[1m782/782\u001b[0m \u001b[32m━━━━━━━━━━━━━━━━━━━━\u001b[0m\u001b[37m\u001b[0m \u001b[1m22s\u001b[0m 27ms/step - accuracy: 0.8601 - loss: 0.3378\n",
            "Test Accuracy: 0.8608\n"
          ]
        }
      ],
      "source": [
        "# Step 10: Evaluate the loaded model\n",
        "loss, accuracy = loaded_model.evaluate(x_test, y_test)\n",
        "print(f\"Test Accuracy: {accuracy:.4f}\")"
      ]
    },
    {
      "cell_type": "code",
      "execution_count": null,
      "metadata": {
        "id": "rwbDB1TauAM9",
        "colab": {
          "base_uri": "https://localhost:8080/"
        },
        "outputId": "f5f42660-18b3-4344-e859-cbdf6f1d0ca8"
      },
      "outputs": [
        {
          "output_type": "stream",
          "name": "stdout",
          "text": [
            "Downloading data from https://storage.googleapis.com/tensorflow/tf-keras-datasets/imdb_word_index.json\n",
            "\u001b[1m1641221/1641221\u001b[0m \u001b[32m━━━━━━━━━━━━━━━━━━━━\u001b[0m\u001b[37m\u001b[0m \u001b[1m0s\u001b[0m 0us/step\n"
          ]
        }
      ],
      "source": [
        "# Load the IMDB dataset word index\n",
        "word_index = imdb.get_word_index()\n",
        "reverse_word_index = {value: key for key, value in word_index.items()}"
      ]
    },
    {
      "cell_type": "code",
      "execution_count": null,
      "metadata": {
        "colab": {
          "base_uri": "https://localhost:8080/",
          "height": 278
        },
        "id": "ebXuPXu3uAcQ",
        "outputId": "3f07879d-fb7f-40e6-a21f-16ac7181228e"
      },
      "outputs": [
        {
          "output_type": "stream",
          "name": "stderr",
          "text": [
            "WARNING:absl:Compiled the loaded model, but the compiled metrics have yet to be built. `model.compile_metrics` will be empty until you train or evaluate the model.\n"
          ]
        },
        {
          "output_type": "display_data",
          "data": {
            "text/plain": [
              "\u001b[1mModel: \"sequential\"\u001b[0m\n"
            ],
            "text/html": [
              "<pre style=\"white-space:pre;overflow-x:auto;line-height:normal;font-family:Menlo,'DejaVu Sans Mono',consolas,'Courier New',monospace\"><span style=\"font-weight: bold\">Model: \"sequential\"</span>\n",
              "</pre>\n"
            ]
          },
          "metadata": {}
        },
        {
          "output_type": "display_data",
          "data": {
            "text/plain": [
              "┏━━━━━━━━━━━━━━━━━━━━━━━━━━━━━━━━━┳━━━━━━━━━━━━━━━━━━━━━━━━┳━━━━━━━━━━━━━━━┓\n",
              "┃\u001b[1m \u001b[0m\u001b[1mLayer (type)                   \u001b[0m\u001b[1m \u001b[0m┃\u001b[1m \u001b[0m\u001b[1mOutput Shape          \u001b[0m\u001b[1m \u001b[0m┃\u001b[1m \u001b[0m\u001b[1m      Param #\u001b[0m\u001b[1m \u001b[0m┃\n",
              "┡━━━━━━━━━━━━━━━━━━━━━━━━━━━━━━━━━╇━━━━━━━━━━━━━━━━━━━━━━━━╇━━━━━━━━━━━━━━━┩\n",
              "│ embedding (\u001b[38;5;33mEmbedding\u001b[0m)           │ (\u001b[38;5;45mNone\u001b[0m, \u001b[38;5;34m500\u001b[0m, \u001b[38;5;34m32\u001b[0m)        │       \u001b[38;5;34m320,000\u001b[0m │\n",
              "├─────────────────────────────────┼────────────────────────┼───────────────┤\n",
              "│ simple_rnn (\u001b[38;5;33mSimpleRNN\u001b[0m)          │ (\u001b[38;5;45mNone\u001b[0m, \u001b[38;5;34m32\u001b[0m)             │         \u001b[38;5;34m2,080\u001b[0m │\n",
              "├─────────────────────────────────┼────────────────────────┼───────────────┤\n",
              "│ dense (\u001b[38;5;33mDense\u001b[0m)                   │ (\u001b[38;5;45mNone\u001b[0m, \u001b[38;5;34m1\u001b[0m)              │            \u001b[38;5;34m33\u001b[0m │\n",
              "└─────────────────────────────────┴────────────────────────┴───────────────┘\n"
            ],
            "text/html": [
              "<pre style=\"white-space:pre;overflow-x:auto;line-height:normal;font-family:Menlo,'DejaVu Sans Mono',consolas,'Courier New',monospace\">┏━━━━━━━━━━━━━━━━━━━━━━━━━━━━━━━━━┳━━━━━━━━━━━━━━━━━━━━━━━━┳━━━━━━━━━━━━━━━┓\n",
              "┃<span style=\"font-weight: bold\"> Layer (type)                    </span>┃<span style=\"font-weight: bold\"> Output Shape           </span>┃<span style=\"font-weight: bold\">       Param # </span>┃\n",
              "┡━━━━━━━━━━━━━━━━━━━━━━━━━━━━━━━━━╇━━━━━━━━━━━━━━━━━━━━━━━━╇━━━━━━━━━━━━━━━┩\n",
              "│ embedding (<span style=\"color: #0087ff; text-decoration-color: #0087ff\">Embedding</span>)           │ (<span style=\"color: #00d7ff; text-decoration-color: #00d7ff\">None</span>, <span style=\"color: #00af00; text-decoration-color: #00af00\">500</span>, <span style=\"color: #00af00; text-decoration-color: #00af00\">32</span>)        │       <span style=\"color: #00af00; text-decoration-color: #00af00\">320,000</span> │\n",
              "├─────────────────────────────────┼────────────────────────┼───────────────┤\n",
              "│ simple_rnn (<span style=\"color: #0087ff; text-decoration-color: #0087ff\">SimpleRNN</span>)          │ (<span style=\"color: #00d7ff; text-decoration-color: #00d7ff\">None</span>, <span style=\"color: #00af00; text-decoration-color: #00af00\">32</span>)             │         <span style=\"color: #00af00; text-decoration-color: #00af00\">2,080</span> │\n",
              "├─────────────────────────────────┼────────────────────────┼───────────────┤\n",
              "│ dense (<span style=\"color: #0087ff; text-decoration-color: #0087ff\">Dense</span>)                   │ (<span style=\"color: #00d7ff; text-decoration-color: #00d7ff\">None</span>, <span style=\"color: #00af00; text-decoration-color: #00af00\">1</span>)              │            <span style=\"color: #00af00; text-decoration-color: #00af00\">33</span> │\n",
              "└─────────────────────────────────┴────────────────────────┴───────────────┘\n",
              "</pre>\n"
            ]
          },
          "metadata": {}
        },
        {
          "output_type": "display_data",
          "data": {
            "text/plain": [
              "\u001b[1m Total params: \u001b[0m\u001b[38;5;34m322,115\u001b[0m (1.23 MB)\n"
            ],
            "text/html": [
              "<pre style=\"white-space:pre;overflow-x:auto;line-height:normal;font-family:Menlo,'DejaVu Sans Mono',consolas,'Courier New',monospace\"><span style=\"font-weight: bold\"> Total params: </span><span style=\"color: #00af00; text-decoration-color: #00af00\">322,115</span> (1.23 MB)\n",
              "</pre>\n"
            ]
          },
          "metadata": {}
        },
        {
          "output_type": "display_data",
          "data": {
            "text/plain": [
              "\u001b[1m Trainable params: \u001b[0m\u001b[38;5;34m322,113\u001b[0m (1.23 MB)\n"
            ],
            "text/html": [
              "<pre style=\"white-space:pre;overflow-x:auto;line-height:normal;font-family:Menlo,'DejaVu Sans Mono',consolas,'Courier New',monospace\"><span style=\"font-weight: bold\"> Trainable params: </span><span style=\"color: #00af00; text-decoration-color: #00af00\">322,113</span> (1.23 MB)\n",
              "</pre>\n"
            ]
          },
          "metadata": {}
        },
        {
          "output_type": "display_data",
          "data": {
            "text/plain": [
              "\u001b[1m Non-trainable params: \u001b[0m\u001b[38;5;34m0\u001b[0m (0.00 B)\n"
            ],
            "text/html": [
              "<pre style=\"white-space:pre;overflow-x:auto;line-height:normal;font-family:Menlo,'DejaVu Sans Mono',consolas,'Courier New',monospace\"><span style=\"font-weight: bold\"> Non-trainable params: </span><span style=\"color: #00af00; text-decoration-color: #00af00\">0</span> (0.00 B)\n",
              "</pre>\n"
            ]
          },
          "metadata": {}
        },
        {
          "output_type": "display_data",
          "data": {
            "text/plain": [
              "\u001b[1m Optimizer params: \u001b[0m\u001b[38;5;34m2\u001b[0m (12.00 B)\n"
            ],
            "text/html": [
              "<pre style=\"white-space:pre;overflow-x:auto;line-height:normal;font-family:Menlo,'DejaVu Sans Mono',consolas,'Courier New',monospace\"><span style=\"font-weight: bold\"> Optimizer params: </span><span style=\"color: #00af00; text-decoration-color: #00af00\">2</span> (12.00 B)\n",
              "</pre>\n"
            ]
          },
          "metadata": {}
        }
      ],
      "source": [
        "\n",
        "# Load the pre-trained model with ReLU activation\n",
        "model = load_model('simple_rnn_imdb.h5')\n",
        "model.summary()"
      ]
    },
    {
      "cell_type": "code",
      "execution_count": null,
      "metadata": {
        "colab": {
          "base_uri": "https://localhost:8080/"
        },
        "id": "dHstvUx0uDOU",
        "outputId": "80d47299-b73f-473c-da6f-6bd67d5d7b90"
      },
      "outputs": [
        {
          "output_type": "execute_result",
          "data": {
            "text/plain": [
              "[array([[-0.04499519,  0.03962044, -0.10949523, ..., -0.06408249,\n",
              "         -0.04266461, -0.21614906],\n",
              "        [-0.06262694,  0.03020679, -0.03912174, ..., -0.04933356,\n",
              "          0.06262846, -0.10348157],\n",
              "        [ 0.00675516, -0.01879328, -0.03366901, ...,  0.00407815,\n",
              "         -0.01882085,  0.03544405],\n",
              "        ...,\n",
              "        [-0.0089345 ,  0.05108465, -0.03109284, ..., -0.07005326,\n",
              "         -0.02129728, -0.04471504],\n",
              "        [ 0.01108887, -0.0803788 ,  0.09495047, ...,  0.02480528,\n",
              "         -0.03485653, -0.00299375],\n",
              "        [ 0.02494573,  0.06766041, -0.05645861, ..., -0.1120759 ,\n",
              "          0.08443053, -0.04520032]], dtype=float32),\n",
              " array([[-0.07243077,  0.36747563, -0.14573005, ..., -0.04241873,\n",
              "          0.21758991, -0.4542525 ],\n",
              "        [ 0.05641148,  0.34524167,  0.15890047, ...,  0.03944896,\n",
              "          0.05416108, -0.12276173],\n",
              "        [-0.07774811, -0.1391683 , -0.18003929, ..., -0.20997171,\n",
              "          0.20363595, -0.22502151],\n",
              "        ...,\n",
              "        [ 0.12125321, -0.24289338,  0.37950742, ...,  0.18392047,\n",
              "          0.3501041 ,  0.19487716],\n",
              "        [ 0.02617113, -0.082605  , -0.3813397 , ...,  0.00354705,\n",
              "         -0.25062063, -0.2609555 ],\n",
              "        [-0.28670686, -0.3124067 ,  0.3385984 , ...,  0.09051014,\n",
              "         -0.07727384,  0.19469552]], dtype=float32),\n",
              " array([[-0.32751194, -0.00193937,  0.35878593, ...,  0.2287341 ,\n",
              "          0.11952739,  0.2693423 ],\n",
              "        [ 0.06586447,  0.04338583,  0.2835298 , ...,  0.10440744,\n",
              "         -0.13219826, -0.08975401],\n",
              "        [-0.1806866 , -0.11155313,  0.28174672, ..., -0.03810537,\n",
              "          0.0218093 , -0.02670019],\n",
              "        ...,\n",
              "        [-0.16195801,  0.07282905,  0.11521242, ...,  0.04462129,\n",
              "          0.2734108 , -0.0935289 ],\n",
              "        [ 0.10856504, -0.11995621,  0.12502992, ..., -0.08707927,\n",
              "         -0.01520765, -0.00560792],\n",
              "        [ 0.17290503,  0.23350877,  0.03679704, ..., -0.08718654,\n",
              "          0.04059172, -0.36516377]], dtype=float32),\n",
              " array([-2.2623080e-03, -1.5483890e-02,  1.8892325e-02,  4.5192190e-03,\n",
              "        -1.7117001e-02,  2.6379125e-02,  1.6323272e-02,  1.8322604e-02,\n",
              "        -2.3247562e-02,  2.3187032e-02,  1.9725926e-02,  1.9342400e-02,\n",
              "         4.1400357e-03,  1.0974518e-01,  2.9231176e-02,  1.9991877e-02,\n",
              "         1.1460550e-02,  1.2074759e-02,  2.5923612e-02,  2.5727819e-03,\n",
              "         1.5460351e-02,  9.1903126e-03,  6.5577985e-03, -2.7320670e-02,\n",
              "         1.8049555e-02,  3.4315849e-03,  1.0215706e-02,  7.5647612e-03,\n",
              "         2.9221112e-02,  3.1831645e-05, -6.7564840e-03,  6.1919237e-03],\n",
              "       dtype=float32),\n",
              " array([[-0.17236143],\n",
              "        [ 0.37448376],\n",
              "        [-0.4792277 ],\n",
              "        [ 0.15314826],\n",
              "        [ 0.02064   ],\n",
              "        [ 0.4306656 ],\n",
              "        [-0.01281814],\n",
              "        [-0.5373879 ],\n",
              "        [-0.24275683],\n",
              "        [-0.18051054],\n",
              "        [-0.60896164],\n",
              "        [-0.29960796],\n",
              "        [ 0.00738174],\n",
              "        [-0.00407817],\n",
              "        [-0.6030492 ],\n",
              "        [ 0.30163252],\n",
              "        [ 0.47978336],\n",
              "        [ 0.27814415],\n",
              "        [ 0.10434452],\n",
              "        [ 0.25256592],\n",
              "        [-0.06521913],\n",
              "        [-0.00372991],\n",
              "        [ 0.48348272],\n",
              "        [-0.2954972 ],\n",
              "        [-0.00772406],\n",
              "        [-0.14527522],\n",
              "        [-0.3907792 ],\n",
              "        [ 0.5069866 ],\n",
              "        [-0.36818844],\n",
              "        [-0.22872268],\n",
              "        [-0.43712902],\n",
              "        [-0.5211688 ]], dtype=float32),\n",
              " array([-0.02815093], dtype=float32)]"
            ]
          },
          "metadata": {},
          "execution_count": 14
        }
      ],
      "source": [
        "model.get_weights()"
      ]
    },
    {
      "cell_type": "code",
      "execution_count": null,
      "metadata": {
        "id": "WporSBhEuE5l"
      },
      "outputs": [],
      "source": [
        "# Step 2: Helper Functions\n",
        "# Function to decode reviews\n",
        "def decode_review(encoded_review):\n",
        "    return ' '.join([reverse_word_index.get(i - 3, '?') for i in encoded_review])\n",
        "\n",
        "# Function to preprocess user input\n",
        "def preprocess_text(text):\n",
        "    words = text.lower().split()\n",
        "    encoded_review = [word_index.get(word, 2) + 3 for word in words]\n",
        "    padded_review = sequence.pad_sequences([encoded_review], maxlen=500)\n",
        "    return padded_review"
      ]
    },
    {
      "cell_type": "code",
      "execution_count": null,
      "metadata": {
        "id": "1XfXhEYfuL97"
      },
      "outputs": [],
      "source": [
        "### Prediction  function\n",
        "\n",
        "def predict_sentiment(review):\n",
        "    preprocessed_input=preprocess_text(review)\n",
        "\n",
        "    prediction=model.predict(preprocessed_input)\n",
        "\n",
        "    sentiment = 'Positive' if prediction[0][0] > 0.5 else 'Negative'\n",
        "\n",
        "    return sentiment, prediction[0][0]"
      ]
    },
    {
      "cell_type": "code",
      "execution_count": 19,
      "metadata": {
        "colab": {
          "base_uri": "https://localhost:8080/"
        },
        "id": "TyPRfaiduNjx",
        "outputId": "481519a3-f63b-4f37-cc0a-e1b97702d0c6"
      },
      "outputs": [
        {
          "output_type": "stream",
          "name": "stdout",
          "text": [
            "\u001b[1m1/1\u001b[0m \u001b[32m━━━━━━━━━━━━━━━━━━━━\u001b[0m\u001b[37m\u001b[0m \u001b[1m0s\u001b[0m 56ms/step\n",
            "Review: This movie was fantastic! The acting was great and the plot was thrilling\n",
            "Sentiment: Positive\n",
            "Prediction Score: 0.7095591425895691\n"
          ]
        }
      ],
      "source": [
        "\n",
        "# Step 4: User Input and Prediction\n",
        "# Example review for prediction\n",
        "example_review = \"This movie was fantastic! The acting was great and the plot was thrilling\"\n",
        "\n",
        "sentiment,score=predict_sentiment(example_review)\n",
        "\n",
        "print(f'Review: {example_review}')\n",
        "print(f'Sentiment: {sentiment}')\n",
        "print(f'Prediction Score: {score}')"
      ]
    },
    {
      "cell_type": "code",
      "execution_count": 1,
      "metadata": {
        "id": "_OweIsQLuPJ5"
      },
      "outputs": [],
      "source": [
        "! pip install streamlit -q\n"
      ]
    },
    {
      "cell_type": "code",
      "execution_count": 2,
      "metadata": {
        "colab": {
          "base_uri": "https://localhost:8080/"
        },
        "id": "yfFxNymmwShY",
        "outputId": "be64c33e-fcd1-42e3-dfcd-be765c6489c1"
      },
      "outputs": [
        {
          "output_type": "stream",
          "name": "stdout",
          "text": [
            "34.138.76.229\n"
          ]
        }
      ],
      "source": [
        "!wget -q -O - ipv4.icanhazip.com"
      ]
    },
    {
      "cell_type": "code",
      "execution_count": null,
      "metadata": {
        "colab": {
          "base_uri": "https://localhost:8080/"
        },
        "id": "S7ub6sQ6wVQZ",
        "outputId": "625e545d-3d55-4b3c-f525-d68e584fe254"
      },
      "outputs": [
        {
          "output_type": "stream",
          "name": "stdout",
          "text": [
            "\u001b[1G\u001b[0K⠙\u001b[1G\u001b[0K⠹\u001b[1G\u001b[0K⠸\n",
            "Collecting usage statistics. To deactivate, set browser.gatherUsageStats to false.\n",
            "\u001b[0m\n",
            "\u001b[1G\u001b[0K⠼\u001b[1G\u001b[0K⠴\u001b[1G\u001b[0K⠦\u001b[1G\u001b[0K⠧\u001b[1G\u001b[0K⠇\u001b[1G\u001b[0K⠏\u001b[1G\u001b[0K⠋\u001b[0m\n",
            "\u001b[34m\u001b[1m  You can now view your Streamlit app in your browser.\u001b[0m\n",
            "\u001b[0m\n",
            "\u001b[34m  Local URL: \u001b[0m\u001b[1mhttp://localhost:8501\u001b[0m\n",
            "\u001b[34m  Network URL: \u001b[0m\u001b[1mhttp://172.28.0.12:8501\u001b[0m\n",
            "\u001b[34m  External URL: \u001b[0m\u001b[1mhttp://34.138.76.229:8501\u001b[0m\n",
            "\u001b[0m\n",
            "\u001b[1G\u001b[0K⠙\u001b[1G\u001b[0K⠹\u001b[1G\u001b[0K⠸\u001b[1G\u001b[0K⠼\u001b[1G\u001b[0K⠴\u001b[1G\u001b[0K⠦\u001b[1G\u001b[0K⠧\u001b[1G\u001b[0Kyour url is: https://bright-garlics-stand.loca.lt\n",
            "2025-08-01 08:19:53.551943: E external/local_xla/xla/stream_executor/cuda/cuda_fft.cc:477] Unable to register cuFFT factory: Attempting to register factory for plugin cuFFT when one has already been registered\n",
            "WARNING: All log messages before absl::InitializeLog() is called are written to STDERR\n",
            "E0000 00:00:1754036393.581300    4643 cuda_dnn.cc:8310] Unable to register cuDNN factory: Attempting to register factory for plugin cuDNN when one has already been registered\n",
            "E0000 00:00:1754036393.589933    4643 cuda_blas.cc:1418] Unable to register cuBLAS factory: Attempting to register factory for plugin cuBLAS when one has already been registered\n",
            "2025-08-01 08:19:53.619196: I tensorflow/core/platform/cpu_feature_guard.cc:210] This TensorFlow binary is optimized to use available CPU instructions in performance-critical operations.\n",
            "To enable the following instructions: AVX2 FMA, in other operations, rebuild TensorFlow with the appropriate compiler flags.\n",
            "2025-08-01 08:19:59.571046: E external/local_xla/xla/stream_executor/cuda/cuda_driver.cc:152] failed call to cuInit: INTERNAL: CUDA error: Failed call to cuInit: UNKNOWN ERROR (303)\n",
            "WARNING:absl:Compiled the loaded model, but the compiled metrics have yet to be built. `model.compile_metrics` will be empty until you train or evaluate the model.\n"
          ]
        }
      ],
      "source": [
        "! streamlit run app.py & npx localtunnel --port 8501"
      ]
    }
  ],
  "metadata": {
    "colab": {
      "provenance": []
    },
    "kernelspec": {
      "display_name": "Python 3",
      "name": "python3"
    },
    "language_info": {
      "name": "python"
    }
  },
  "nbformat": 4,
  "nbformat_minor": 0
}